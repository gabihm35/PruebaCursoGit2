{
 "cells": [
  {
   "cell_type": "code",
   "execution_count": 1,
   "id": "d6c531ef",
   "metadata": {},
   "outputs": [
    {
     "data": {
      "text/plain": [
       "['In',\n",
       " 'Out',\n",
       " '_',\n",
       " '__',\n",
       " '___',\n",
       " '__builtin__',\n",
       " '__builtins__',\n",
       " '__doc__',\n",
       " '__loader__',\n",
       " '__name__',\n",
       " '__package__',\n",
       " '__spec__',\n",
       " '__vsc_ipynb_file__',\n",
       " '_dh',\n",
       " '_i',\n",
       " '_i1',\n",
       " '_ih',\n",
       " '_ii',\n",
       " '_iii',\n",
       " '_oh',\n",
       " 'exit',\n",
       " 'get_ipython',\n",
       " 'open',\n",
       " 'quit']"
      ]
     },
     "execution_count": 1,
     "metadata": {},
     "output_type": "execute_result"
    }
   ],
   "source": [
    "dir()"
   ]
  },
  {
   "cell_type": "code",
   "execution_count": 2,
   "id": "01d5ee33",
   "metadata": {},
   "outputs": [],
   "source": [
    "frase = \"Python es divertido\""
   ]
  },
  {
   "cell_type": "code",
   "execution_count": 3,
   "id": "15080e9e",
   "metadata": {},
   "outputs": [
    {
     "data": {
      "text/plain": [
       "'Python es divertido'"
      ]
     },
     "execution_count": 3,
     "metadata": {},
     "output_type": "execute_result"
    }
   ],
   "source": [
    "frase"
   ]
  },
  {
   "cell_type": "code",
   "execution_count": 4,
   "id": "7a1a6b27",
   "metadata": {},
   "outputs": [
    {
     "data": {
      "text/plain": [
       "'Python es genial'"
      ]
     },
     "execution_count": 4,
     "metadata": {},
     "output_type": "execute_result"
    }
   ],
   "source": [
    "frase.replace(\"divertido\", \"genial\")"
   ]
  },
  {
   "cell_type": "code",
   "execution_count": 1,
   "id": "2aa31751",
   "metadata": {},
   "outputs": [
    {
     "ename": "NameError",
     "evalue": "name 'ciruela' is not defined",
     "output_type": "error",
     "traceback": [
      "\u001b[1;31m---------------------------------------------------------------------------\u001b[0m",
      "\u001b[1;31mNameError\u001b[0m                                 Traceback (most recent call last)",
      "Cell \u001b[1;32mIn[1], line 1\u001b[0m\n\u001b[1;32m----> 1\u001b[0m palabra \u001b[38;5;241m=\u001b[39m ciruela\n\u001b[0;32m      2\u001b[0m palabra[\u001b[38;5;241m0\u001b[39m:\u001b[38;5;241m4\u001b[39m]\n",
      "\u001b[1;31mNameError\u001b[0m: name 'ciruela' is not defined"
     ]
    }
   ],
   "source": [
    "palabra = ciruela\n",
    "palabra[0:4]"
   ]
  },
  {
   "cell_type": "code",
   "execution_count": 3,
   "id": "9ce7412c",
   "metadata": {},
   "outputs": [],
   "source": [
    "palabra = \"ciruela\""
   ]
  },
  {
   "cell_type": "code",
   "execution_count": 4,
   "id": "6d1f3f9a",
   "metadata": {},
   "outputs": [
    {
     "data": {
      "text/plain": [
       "'ciru'"
      ]
     },
     "execution_count": 4,
     "metadata": {},
     "output_type": "execute_result"
    }
   ],
   "source": [
    "palabra[0:4]"
   ]
  },
  {
   "cell_type": "code",
   "execution_count": 5,
   "id": "461f057e",
   "metadata": {},
   "outputs": [],
   "source": [
    "palabra = \"aventura\""
   ]
  },
  {
   "cell_type": "code",
   "execution_count": 6,
   "id": "d08734ff",
   "metadata": {},
   "outputs": [
    {
     "name": "stdout",
     "output_type": "stream",
     "text": [
      "e\n"
     ]
    }
   ],
   "source": [
    "print(palabra[2:4:6])"
   ]
  },
  {
   "cell_type": "code",
   "execution_count": 8,
   "id": "f35bee40",
   "metadata": {},
   "outputs": [
    {
     "data": {
      "text/plain": [
       "'vnu'"
      ]
     },
     "execution_count": 8,
     "metadata": {},
     "output_type": "execute_result"
    }
   ],
   "source": [
    "palabra[1:6:2]"
   ]
  },
  {
   "cell_type": "code",
   "execution_count": 9,
   "id": "f6e75392",
   "metadata": {},
   "outputs": [],
   "source": [
    "frase = \"estudiar python es una gran decision\""
   ]
  },
  {
   "cell_type": "code",
   "execution_count": 10,
   "id": "4bf7c96f",
   "metadata": {},
   "outputs": [
    {
     "data": {
      "text/plain": [
       "5"
      ]
     },
     "execution_count": 10,
     "metadata": {},
     "output_type": "execute_result"
    }
   ],
   "source": [
    "frase.count(\" \")"
   ]
  },
  {
   "cell_type": "code",
   "execution_count": 11,
   "id": "2e82e29a",
   "metadata": {},
   "outputs": [
    {
     "name": "stdout",
     "output_type": "stream",
     "text": [
      "6\n"
     ]
    }
   ],
   "source": [
    "print(frase.count(\" \") + 1)"
   ]
  },
  {
   "cell_type": "code",
   "execution_count": 12,
   "id": "e5dc4a19",
   "metadata": {},
   "outputs": [],
   "source": [
    "frase = \" estudiar python es una gran decision \""
   ]
  },
  {
   "cell_type": "code",
   "execution_count": 13,
   "id": "ac9bdcc6",
   "metadata": {},
   "outputs": [
    {
     "name": "stdout",
     "output_type": "stream",
     "text": [
      "6\n"
     ]
    }
   ],
   "source": [
    "print(frase.strip().count(\" \") + 1)"
   ]
  },
  {
   "cell_type": "code",
   "execution_count": 14,
   "id": "bb924b33",
   "metadata": {},
   "outputs": [
    {
     "data": {
      "text/plain": [
       "['estudiar', 'python', 'es', 'una', 'gran', 'decision']"
      ]
     },
     "execution_count": 14,
     "metadata": {},
     "output_type": "execute_result"
    }
   ],
   "source": [
    "frase.strip().split(\" \")"
   ]
  },
  {
   "cell_type": "code",
   "execution_count": 15,
   "id": "0b717dda",
   "metadata": {},
   "outputs": [],
   "source": [
    "frase = \" Lo voy a lograr \""
   ]
  },
  {
   "cell_type": "code",
   "execution_count": null,
   "id": "c5ba09d5",
   "metadata": {},
   "outputs": [],
   "source": [
    "palabras_en_frase = (frase.strip().count(\" \") + 1)"
   ]
  },
  {
   "cell_type": "code",
   "execution_count": null,
   "id": "fe0c152d",
   "metadata": {},
   "outputs": [],
   "source": [
    "input(\"Dime tu edad:\")"
   ]
  },
  {
   "cell_type": "code",
   "execution_count": null,
   "id": "79ea14ee",
   "metadata": {},
   "outputs": [],
   "source": [
    "nombre = input(\"Por favor, dime tu nombre:\")\n",
    "print(\"Hola \" + nombre + \"!\")"
   ]
  },
  {
   "cell_type": "code",
   "execution_count": null,
   "id": "f54206f6",
   "metadata": {},
   "outputs": [],
   "source": [
    "edad = input(\"Dime tu edad:\")"
   ]
  },
  {
   "cell_type": "code",
   "execution_count": null,
   "id": "bb73e18a",
   "metadata": {},
   "outputs": [],
   "source": [
    "type(edad)"
   ]
  },
  {
   "cell_type": "code",
   "execution_count": null,
   "id": "121b9b53",
   "metadata": {},
   "outputs": [],
   "source": [
    "edad = int(input(\"Dime tu edad:\"))"
   ]
  },
  {
   "cell_type": "code",
   "execution_count": null,
   "id": "de3337b9",
   "metadata": {},
   "outputs": [],
   "source": [
    "type(edad)"
   ]
  },
  {
   "cell_type": "code",
   "execution_count": null,
   "id": "88d82a30",
   "metadata": {},
   "outputs": [],
   "source": [
    "a = int(input(\"Dime el primer numero:\"))\n",
    "b = int(input(\"Dime el segundo numero:\"))\n",
    "suma = a + b\n",
    "print(\"La suma es \" + str(suma))"
   ]
  },
  {
   "cell_type": "code",
   "execution_count": null,
   "id": "8ec971a7",
   "metadata": {},
   "outputs": [],
   "source": [
    "km = input(\"Introduce la cantidad de Kilómetros recorridos: \")\n",
    "km = float(km) #Comvierte los kilometros con decimales\n",
    "millas = km * 0.621371 #\n",
    "print(millas)\n"
   ]
  },
  {
   "cell_type": "code",
   "execution_count": null,
   "id": "76a8d00b",
   "metadata": {},
   "outputs": [],
   "source": [
    "frase = \"Hola {}, tienes {} años\".format(nombre, edad)"
   ]
  },
  {
   "cell_type": "code",
   "execution_count": null,
   "id": "340597e9",
   "metadata": {},
   "outputs": [],
   "source": [
    "frase = f\"Hola {nombre}, tienes {edad} años\"\n",
    "frase"
   ]
  },
  {
   "cell_type": "code",
   "execution_count": 1,
   "id": "bda117a2",
   "metadata": {},
   "outputs": [
    {
     "data": {
      "text/plain": [
       "list"
      ]
     },
     "execution_count": 1,
     "metadata": {},
     "output_type": "execute_result"
    }
   ],
   "source": [
    "# Listas en Python\n",
    "frutas = [\"banana\", \"manzana\", \"pera\"]\n",
    "type(frutas)"
   ]
  },
  {
   "cell_type": "code",
   "execution_count": 2,
   "id": "12047f42",
   "metadata": {},
   "outputs": [
    {
     "data": {
      "text/plain": [
       "list"
      ]
     },
     "execution_count": 2,
     "metadata": {},
     "output_type": "execute_result"
    }
   ],
   "source": [
    "numeros = [10, 30, 85]\n",
    "type(numeros)"
   ]
  },
  {
   "cell_type": "code",
   "execution_count": 3,
   "id": "6ac1232b",
   "metadata": {},
   "outputs": [
    {
     "data": {
      "text/plain": [
       "list"
      ]
     },
     "execution_count": 3,
     "metadata": {},
     "output_type": "execute_result"
    }
   ],
   "source": [
    "misListas = [[10, 20, 30], [\"a\", \"b\", \"c\"], [\"Pablo\", \"Micaela\", \"Milena\"]]\n",
    "type(misListas)"
   ]
  },
  {
   "cell_type": "code",
   "execution_count": 4,
   "id": "efb8aff8",
   "metadata": {},
   "outputs": [
    {
     "data": {
      "text/plain": [
       "'banana'"
      ]
     },
     "execution_count": 4,
     "metadata": {},
     "output_type": "execute_result"
    }
   ],
   "source": [
    "frutas[0]"
   ]
  },
  {
   "cell_type": "code",
   "execution_count": null,
   "id": "5dd54043",
   "metadata": {},
   "outputs": [
    {
     "data": {
      "text/plain": [
       "'Micaela'"
      ]
     },
     "execution_count": 5,
     "metadata": {},
     "output_type": "execute_result"
    }
   ],
   "source": [
    "misListas[2][1] #De esta manera accedemos a los elementos de las listas, sean simples o compuestas"
   ]
  },
  {
   "cell_type": "code",
   "execution_count": 11,
   "id": "9fe90539",
   "metadata": {},
   "outputs": [
    {
     "data": {
      "text/plain": [
       "['sandía', 'Sandía', 'mango', 'manzana', 'pera']"
      ]
     },
     "execution_count": 11,
     "metadata": {},
     "output_type": "execute_result"
    }
   ],
   "source": [
    "frutas[0] = \"sandía\" #Cambiamos el indice 0 que es banana por sandia\n",
    "frutas"
   ]
  },
  {
   "cell_type": "code",
   "execution_count": 9,
   "id": "6fe11c7f",
   "metadata": {},
   "outputs": [
    {
     "data": {
      "text/plain": [
       "['Mango', 'Sandía', 'manzana', 'pera', 'mango']"
      ]
     },
     "execution_count": 9,
     "metadata": {},
     "output_type": "execute_result"
    }
   ],
   "source": [
    "frutas.append(\"mango\") # Agregamos Mango a la lista frutas\n",
    "frutas"
   ]
  },
  {
   "cell_type": "code",
   "execution_count": null,
   "id": "63cd75c5",
   "metadata": {},
   "outputs": [
    {
     "data": {
      "text/plain": [
       "['mango', 'manzana', 'pera', 'sandía']"
      ]
     },
     "execution_count": 15,
     "metadata": {},
     "output_type": "execute_result"
    }
   ],
   "source": [
    "frutas.sort() # Ordena alfabeticamente la lista y el cambio queda fijo.\n",
    "frutas"
   ]
  },
  {
   "cell_type": "code",
   "execution_count": 13,
   "id": "c673f178",
   "metadata": {},
   "outputs": [],
   "source": [
    "frutas.remove(\"Sandía\")      "
   ]
  },
  {
   "cell_type": "code",
   "execution_count": 14,
   "id": "8bc59460",
   "metadata": {},
   "outputs": [
    {
     "data": {
      "text/plain": [
       "['mango', 'manzana', 'pera', 'sandía']"
      ]
     },
     "execution_count": 14,
     "metadata": {},
     "output_type": "execute_result"
    }
   ],
   "source": [
    "frutas"
   ]
  },
  {
   "cell_type": "code",
   "execution_count": null,
   "id": "7bb2f5b6",
   "metadata": {},
   "outputs": [],
   "source": [
    "frutas.sort(reverse=True) # Ordena de forma descendente la lista Z-A"
   ]
  },
  {
   "cell_type": "code",
   "execution_count": 17,
   "id": "657b76a1",
   "metadata": {},
   "outputs": [
    {
     "data": {
      "text/plain": [
       "['sandía', 'pera', 'manzana', 'mango']"
      ]
     },
     "execution_count": 17,
     "metadata": {},
     "output_type": "execute_result"
    }
   ],
   "source": [
    "frutas"
   ]
  },
  {
   "cell_type": "code",
   "execution_count": 2,
   "id": "5495178e",
   "metadata": {},
   "outputs": [
    {
     "data": {
      "text/plain": [
       "('sandía', 'pera', 'manzana', 'mango')"
      ]
     },
     "execution_count": 2,
     "metadata": {},
     "output_type": "execute_result"
    }
   ],
   "source": [
    "frutas = \"sandía\", \"pera\", \"manzana\", \"mango\"\n",
    "frutas"
   ]
  },
  {
   "cell_type": "code",
   "execution_count": 5,
   "id": "6e7ec671",
   "metadata": {},
   "outputs": [],
   "source": [
    "lista1 = [1,2,3]\n",
    "lista2 = [4,5,6]\n",
    "combinada = lista1 + lista2"
   ]
  },
  {
   "cell_type": "code",
   "execution_count": 6,
   "id": "42b30b36",
   "metadata": {},
   "outputs": [
    {
     "data": {
      "text/plain": [
       "[1, 2, 3, 4, 5, 6]"
      ]
     },
     "execution_count": 6,
     "metadata": {},
     "output_type": "execute_result"
    }
   ],
   "source": [
    "combinada"
   ]
  },
  {
   "cell_type": "code",
   "execution_count": 7,
   "id": "74bd3a9a",
   "metadata": {},
   "outputs": [
    {
     "data": {
      "text/plain": [
       "list"
      ]
     },
     "execution_count": 7,
     "metadata": {},
     "output_type": "execute_result"
    }
   ],
   "source": [
    "type(combinada)"
   ]
  },
  {
   "cell_type": "code",
   "execution_count": 9,
   "id": "961bce3c",
   "metadata": {},
   "outputs": [],
   "source": [
    "repetida = lista1 * 2"
   ]
  },
  {
   "cell_type": "code",
   "execution_count": 10,
   "id": "6e0399f8",
   "metadata": {},
   "outputs": [
    {
     "data": {
      "text/plain": [
       "[1, 2, 3, 1, 2, 3]"
      ]
     },
     "execution_count": 10,
     "metadata": {},
     "output_type": "execute_result"
    }
   ],
   "source": [
    "repetida"
   ]
  },
  {
   "cell_type": "code",
   "execution_count": 11,
   "id": "a756d0aa",
   "metadata": {},
   "outputs": [
    {
     "data": {
      "text/plain": [
       "[2, 3, 4]"
      ]
     },
     "execution_count": 11,
     "metadata": {},
     "output_type": "execute_result"
    }
   ],
   "source": [
    "sublista = combinada[1:4]\n",
    "sublista"
   ]
  },
  {
   "cell_type": "code",
   "execution_count": null,
   "id": "0c0e57c5",
   "metadata": {},
   "outputs": [],
   "source": []
  }
 ],
 "metadata": {
  "kernelspec": {
   "display_name": "base",
   "language": "python",
   "name": "python3"
  },
  "language_info": {
   "codemirror_mode": {
    "name": "ipython",
    "version": 3
   },
   "file_extension": ".py",
   "mimetype": "text/x-python",
   "name": "python",
   "nbconvert_exporter": "python",
   "pygments_lexer": "ipython3",
   "version": "3.12.7"
  }
 },
 "nbformat": 4,
 "nbformat_minor": 5
}
